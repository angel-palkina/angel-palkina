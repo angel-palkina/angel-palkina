{
  "nbformat": 4,
  "nbformat_minor": 0,
  "metadata": {
    "colab": {
      "provenance": [],
      "authorship_tag": "ABX9TyNFbrg7b0+Vkpj7GZJdOKMS",
      "include_colab_link": true
    },
    "kernelspec": {
      "name": "python3",
      "display_name": "Python 3"
    },
    "language_info": {
      "name": "python"
    },
    "accelerator": "GPU",
    "gpuClass": "standard"
  },
  "cells": [
    {
      "cell_type": "markdown",
      "metadata": {
        "id": "view-in-github",
        "colab_type": "text"
      },
      "source": [
        "<a href=\"https://colab.research.google.com/github/angel-palkina/angel-palkina/blob/main/%D0%A0%D0%B0%D1%81%D0%BF%D0%BE%D0%B7%D0%BD%D0%B0%D0%B2%D0%B0%D0%BD%D0%B8%D0%B5_%D1%86%D0%B8%D1%84%D1%80_%D0%B2_%D0%BF%D1%80%D0%BE%D1%81%D1%82%D1%80%D0%B0%D0%BD%D1%81%D1%82%D0%B2%D0%B5_py.ipynb\" target=\"_parent\"><img src=\"https://colab.research.google.com/assets/colab-badge.svg\" alt=\"Open In Colab\"/></a>"
      ]
    },
    {
      "cell_type": "markdown",
      "source": [
        "Свёрточная нейросеть с картами активации\n",
        "Cоnvolutional - свёрточная\n",
        "Pooling - сжатие\n",
        "Вывод в слой классификации"
      ],
      "metadata": {
        "id": "3bJ32Qv-nAFq"
      }
    },
    {
      "cell_type": "markdown",
      "source": [
        "Сменили среду выполнения на GPU - видеокарту\n"
      ],
      "metadata": {
        "id": "V9GCEykzoXqz"
      }
    },
    {
      "cell_type": "code",
      "execution_count": null,
      "metadata": {
        "id": "PPB1alafm-5t"
      },
      "outputs": [],
      "source": [
        "import numpy as np\n",
        "import matplotlib.pyplot as plt\n",
        "from tensorflow.keras.models import Sequential # сети последовательного распространения\n",
        "from tensorflow.keras.layers import Dense, Conv2D, MaxPooling2D, Flatten, Dropout, BatchNormalization #полносвязный слой, свёрточный слой работающий с 2мерным изовражением, слой для сжатия, слой выпрямления матриц, слой пряпятствия переобучению нейросети, слой нормализации пакета данных(уменьшения больших значений нейронов для увеличения скорости обучения)\n",
        "from tensorflow.keras.datasets import mnist #картинки для обучения\n",
        "from tensorflow.keras import utils #чтобы привести выходные данные в one hot encoding\n",
        "from tensorflow.keras.preprocessing import image # для подгрузки тестовой фотографии с компьютера"
      ]
    },
    {
      "cell_type": "code",
      "source": [
        "(x_train,y_train),(x_test, y_test) = mnist.load_data()#нужны наборы для обучения, валидации(тест для перестраивания процесса обучения), а также тестовый набор \n"
      ],
      "metadata": {
        "id": "ZHNL0Kmroo9r"
      },
      "execution_count": null,
      "outputs": []
    },
    {
      "cell_type": "code",
      "source": [
        "x_train = x_train/255 # преобразование картинок в массив со значениями от 0 до 1\n",
        "x_train = x_train.reshape(60000,28,28,1)"
      ],
      "metadata": {
        "id": "yTAFtgsKqBCO"
      },
      "execution_count": null,
      "outputs": []
    },
    {
      "cell_type": "code",
      "source": [
        "x_test = x_test/255 # преобразование картинок в массив со значениями от 0 до 1\n",
        "x_test = x_test.reshape(x_test.shape[0],28,28,1)"
      ],
      "metadata": {
        "id": "AQkfLatYrDS-"
      },
      "execution_count": null,
      "outputs": []
    },
    {
      "cell_type": "code",
      "source": [
        "y_train = utils.to_categorical(y_train,10)\n",
        "y_train[0] #разбрасывания правильного ответа на 10 нейронов"
      ],
      "metadata": {
        "colab": {
          "base_uri": "https://localhost:8080/"
        },
        "id": "HCxeV8efqAJ2",
        "outputId": "91112483-e9ab-4b61-e5cc-125204291340"
      },
      "execution_count": null,
      "outputs": [
        {
          "output_type": "execute_result",
          "data": {
            "text/plain": [
              "array([0., 0., 0., 0., 0., 1., 0., 0., 0., 0.], dtype=float32)"
            ]
          },
          "metadata": {},
          "execution_count": 5
        }
      ]
    },
    {
      "cell_type": "code",
      "source": [
        "model = Sequential()#сознание модели нейронной сети\n",
        "model.add(BatchNormalization (input_shape = (28, 28, 1)))#создание первого скрытого нормализовочного нейронного слоя c указанием кол-ва входных shape нейронов\n",
        "model.add(Conv2D(256, 3, padding = 'same', activation= 'relu'))#создание скрытого свёрточного нейронного слоя \n",
        "model.add(Conv2D(256, 3, padding = 'same', activation= 'relu'))# 1 первый параметр кол-во ядер, 2 - размер стороны ядра\n",
        "model.add(MaxPooling2D(pool_size= (2,2)))# параметр - размер сжатия, сжатие происходит по максимальному значению \n",
        "model.add(Dropout(0.25))# создание скрытого свёрточного нейронного слоя, который отключает определённый % нейронов для избежения запоминания картинок\n",
        "model.add(Conv2D(128, 3, padding = 'same', activation= 'relu'))\n",
        "model.add(Conv2D(128, 3, padding = 'same', activation= 'relu'))\n",
        "model.add(MaxPooling2D(pool_size= (2,2)))\n",
        "model.add(Dropout(0.25))\n",
        "model.add(Conv2D(64, 3, padding = 'same', activation= 'relu'))\n",
        "model.add(Conv2D(64, 3, padding = 'same', activation= 'relu'))\n",
        "model.add(Flatten())\n",
        "model.add(Dense(1024, activation= 'relu'))#создание скрытого полносвязного нейронного слоя\n",
        "model.add(Dense(1024, activation= 'relu'))\n",
        "model.add(Dense(512, activation= 'relu'))\n",
        "model.add(Dropout(0.25))\n",
        "model.add(Dense(10, activation= 'softmax')) #выходной слой на 10 нейронов"
      ],
      "metadata": {
        "id": "xygnguBLqTXW"
      },
      "execution_count": null,
      "outputs": []
    },
    {
      "cell_type": "code",
      "source": [
        "model.summary() #вывод архитектура модели"
      ],
      "metadata": {
        "id": "CTn94hxgwvuA"
      },
      "execution_count": null,
      "outputs": []
    },
    {
      "cell_type": "code",
      "source": [
        "model.compile(loss = 'categorical_crossentropy', optimizer='adam', metrics='accuracy')# какая функция ошибки, какой метод градиентного спуска, какая метрика"
      ],
      "metadata": {
        "id": "82h3fBOLtNlc"
      },
      "execution_count": null,
      "outputs": []
    },
    {
      "cell_type": "code",
      "source": [
        "model.fit(x_train, y_train, batch_size= 150, epochs=10, validation_split = 0.2)#размер batch - это кол-во примеров, которое мы поссылаем в нейронную сеть за 1 раз, эпоха - сколько раз мы проведём наши картинки пройдут через нейронную сеть, 0.2 - %, "
      ],
      "metadata": {
        "colab": {
          "base_uri": "https://localhost:8080/"
        },
        "id": "BP4t04wmw85A",
        "outputId": "fea5793d-cbce-429b-82c1-05693dc11531"
      },
      "execution_count": null,
      "outputs": [
        {
          "output_type": "stream",
          "name": "stdout",
          "text": [
            "Epoch 1/10\n",
            "320/320 [==============================] - 39s 80ms/step - loss: 0.2743 - accuracy: 0.9081 - val_loss: 0.7363 - val_accuracy: 0.9715\n",
            "Epoch 2/10\n",
            "320/320 [==============================] - 26s 82ms/step - loss: 0.0634 - accuracy: 0.9814 - val_loss: 0.0488 - val_accuracy: 0.9871\n",
            "Epoch 3/10\n",
            "320/320 [==============================] - 25s 79ms/step - loss: 0.0459 - accuracy: 0.9864 - val_loss: 0.0525 - val_accuracy: 0.9866\n",
            "Epoch 4/10\n",
            "320/320 [==============================] - 25s 78ms/step - loss: 0.0357 - accuracy: 0.9898 - val_loss: 0.0460 - val_accuracy: 0.9873\n",
            "Epoch 5/10\n",
            "320/320 [==============================] - 26s 80ms/step - loss: 0.0336 - accuracy: 0.9898 - val_loss: 0.0387 - val_accuracy: 0.9886\n",
            "Epoch 6/10\n",
            "320/320 [==============================] - 25s 78ms/step - loss: 0.0283 - accuracy: 0.9915 - val_loss: 0.0366 - val_accuracy: 0.9915\n",
            "Epoch 7/10\n",
            "320/320 [==============================] - 25s 78ms/step - loss: 0.0234 - accuracy: 0.9934 - val_loss: 0.0496 - val_accuracy: 0.9866\n",
            "Epoch 8/10\n",
            "320/320 [==============================] - 25s 78ms/step - loss: 0.0234 - accuracy: 0.9938 - val_loss: 0.0402 - val_accuracy: 0.9898\n",
            "Epoch 9/10\n",
            "320/320 [==============================] - 25s 79ms/step - loss: 0.0214 - accuracy: 0.9939 - val_loss: 0.0384 - val_accuracy: 0.9908\n",
            "Epoch 10/10\n",
            "320/320 [==============================] - 25s 79ms/step - loss: 0.0211 - accuracy: 0.9943 - val_loss: 0.0436 - val_accuracy: 0.9886\n"
          ]
        },
        {
          "output_type": "execute_result",
          "data": {
            "text/plain": [
              "<keras.callbacks.History at 0x7f332e318750>"
            ]
          },
          "metadata": {},
          "execution_count": 15
        }
      ]
    },
    {
      "cell_type": "code",
      "source": [
        "k = 0\n",
        "prediction = model.predict(x_test) #предсказание тестовой картинки с номером k\n",
        "print('На картинке цифра:',np.argmax(prediction[k]))"
      ],
      "metadata": {
        "colab": {
          "base_uri": "https://localhost:8080/"
        },
        "id": "jp5W7ixazDPB",
        "outputId": "d33dddbd-b1db-4e34-fd88-41942823d86f"
      },
      "execution_count": null,
      "outputs": [
        {
          "output_type": "stream",
          "name": "stdout",
          "text": [
            "На картинке цифра: 7\n"
          ]
        }
      ]
    },
    {
      "cell_type": "code",
      "source": [
        "p = 0\n",
        "for i in range(10000):  #цикл подсчёта кол-ва правильных результатов\n",
        "  if np.argmax(prediction[i]) == y_test[i]:\n",
        "    p += 1\n",
        "print(p/x_test.shape[0]*100, '% - вероятность правильности предсказания')"
      ],
      "metadata": {
        "id": "fateWjBLz4Tp",
        "outputId": "02a6f717-0a7f-481e-9971-7aa7308f0e52",
        "colab": {
          "base_uri": "https://localhost:8080/"
        }
      },
      "execution_count": null,
      "outputs": [
        {
          "output_type": "stream",
          "name": "stdout",
          "text": [
            "99.09 % - вероятность правильности предсказания\n"
          ]
        }
      ]
    }
  ]
}